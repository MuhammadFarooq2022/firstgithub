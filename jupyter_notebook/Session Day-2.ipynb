{
 "cells": [
  {
   "cell_type": "code",
   "execution_count": 1,
   "id": "1f0057fb",
   "metadata": {},
   "outputs": [],
   "source": [
    "# body mass index\n",
    "# input weight\n",
    "# height\n",
    "# BMI (Ask your self your height)\n",
    "# calculate BMI\n",
    "# print BMI (My name is Farooq, and my BMI is 35)"
   ]
  },
  {
   "cell_type": "code",
   "execution_count": 2,
   "id": "9ea11e09",
   "metadata": {},
   "outputs": [],
   "source": [
    "# weight in kg/height in m and its square "
   ]
  },
  {
   "cell_type": "code",
   "execution_count": 3,
   "id": "1437f2e6",
   "metadata": {
    "scrolled": true
   },
   "outputs": [
    {
     "name": "stdout",
     "output_type": "stream",
     "text": [
      "what is your height? 1.77\n"
     ]
    }
   ],
   "source": [
    "height = input(\"what is your height? \")"
   ]
  },
  {
   "cell_type": "code",
   "execution_count": 4,
   "id": "3183a625",
   "metadata": {},
   "outputs": [],
   "source": [
    "height = float(height)"
   ]
  },
  {
   "cell_type": "code",
   "execution_count": 5,
   "id": "285d779e",
   "metadata": {
    "scrolled": true
   },
   "outputs": [
    {
     "name": "stdout",
     "output_type": "stream",
     "text": [
      "what is your weight? 86\n"
     ]
    }
   ],
   "source": [
    "weight = input(\"what is your weight? \")"
   ]
  },
  {
   "cell_type": "code",
   "execution_count": 6,
   "id": "787181b1",
   "metadata": {},
   "outputs": [],
   "source": [
    "weight = float(weight)"
   ]
  },
  {
   "cell_type": "code",
   "execution_count": 7,
   "id": "551f01a0",
   "metadata": {},
   "outputs": [
    {
     "name": "stdout",
     "output_type": "stream",
     "text": [
      "what is your name? Farooq\n"
     ]
    }
   ],
   "source": [
    "name = input(\"what is your name? \")"
   ]
  },
  {
   "cell_type": "code",
   "execution_count": 8,
   "id": "73b6ec48",
   "metadata": {},
   "outputs": [
    {
     "data": {
      "text/plain": [
       "27.450604870886398"
      ]
     },
     "execution_count": 8,
     "metadata": {},
     "output_type": "execute_result"
    }
   ],
   "source": [
    "BMI = weight/height**2\n",
    "BMI"
   ]
  },
  {
   "cell_type": "code",
   "execution_count": 13,
   "id": "11777d38",
   "metadata": {},
   "outputs": [
    {
     "name": "stdout",
     "output_type": "stream",
     "text": [
      "My name is Farooq and my BMI is 27.450604870886398\n"
     ]
    }
   ],
   "source": [
    "print(\"My name is\", name, \"and my BMI is\", BMI)"
   ]
  }
 ],
 "metadata": {
  "kernelspec": {
   "display_name": "Python 3 (ipykernel)",
   "language": "python",
   "name": "python3"
  },
  "language_info": {
   "codemirror_mode": {
    "name": "ipython",
    "version": 3
   },
   "file_extension": ".py",
   "mimetype": "text/x-python",
   "name": "python",
   "nbconvert_exporter": "python",
   "pygments_lexer": "ipython3",
   "version": "3.9.7"
  }
 },
 "nbformat": 4,
 "nbformat_minor": 5
}
